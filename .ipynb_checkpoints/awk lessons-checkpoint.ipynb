{
 "cells": [
  {
   "cell_type": "markdown",
   "metadata": {},
   "source": [
    "# The Unix School: awk"
   ]
  },
  {
   "cell_type": "markdown",
   "metadata": {},
   "source": [
    "### Lesson 1: read a file & split the contents"
   ]
  },
  {
   "cell_type": "code",
   "execution_count": 2,
   "metadata": {},
   "outputs": [
    {
     "name": "stdout",
     "output_type": "stream",
     "text": [
      "Name Domain\r\n",
      "Deepak Banking\r\n",
      "Neha Telecom\r\n",
      "Vijay Finance\r\n",
      "Guru Migration"
     ]
    }
   ],
   "source": [
    "!cat file1"
   ]
  },
  {
   "cell_type": "code",
   "execution_count": 3,
   "metadata": {},
   "outputs": [
    {
     "name": "stdout",
     "output_type": "stream",
     "text": [
      "Name\n",
      "Deepak\n",
      "Neha\n",
      "Vijay\n",
      "Guru\n",
      "Domain\n",
      "Banking\n",
      "Telecom\n",
      "Finance\n",
      "Migration\n"
     ]
    }
   ],
   "source": [
    "# print *only* the names, then domains, in the file\n",
    "!awk '{print $1}' file1\n",
    "!awk '{print $2}' file1"
   ]
  },
  {
   "cell_type": "code",
   "execution_count": 4,
   "metadata": {},
   "outputs": [
    {
     "name": "stdout",
     "output_type": "stream",
     "text": [
      "Deepak\r\n",
      "Neha\r\n",
      "Vijay\r\n",
      "Guru\r\n"
     ]
    }
   ],
   "source": [
    "# print the names without the header record\n",
    "# NR = line number; NR!=1 says to omit the 1st line.\n",
    "!awk 'NR!=1{print $1}' file1"
   ]
  },
  {
   "cell_type": "code",
   "execution_count": 5,
   "metadata": {},
   "outputs": [
    {
     "name": "stdout",
     "output_type": "stream",
     "text": [
      "Name Domain\r\n",
      "Deepak Banking\r\n",
      "Neha Telecom\r\n",
      "Vijay Finance\r\n",
      "Guru Migration\r\n"
     ]
    }
   ],
   "source": [
    "# print entire file contents - $0 = entire line.\n",
    "!awk '{print $0}' file1"
   ]
  },
  {
   "cell_type": "code",
   "execution_count": 6,
   "metadata": {},
   "outputs": [
    {
     "name": "stdout",
     "output_type": "stream",
     "text": [
      "Name Domain\r\n",
      "Deepak Banking\r\n",
      "Neha Telecom\r\n",
      "Vijay Finance\r\n",
      "Guru Migration\r\n"
     ]
    }
   ],
   "source": [
    "# another way of printing everything ('1' = true for every line.)\n",
    "!awk '1' file1"
   ]
  },
  {
   "cell_type": "code",
   "execution_count": 9,
   "metadata": {},
   "outputs": [
    {
     "name": "stdout",
     "output_type": "stream",
     "text": [
      "Name,Domain,Expertise\r\n",
      "Deepak,Banking,MQ Series\r\n",
      "Neha,Telecom,Power Builder\r\n",
      "Vijay,Finance,CRM Expert\r\n",
      "Guru,Migration,Unix"
     ]
    }
   ],
   "source": [
    "!cat file2"
   ]
  },
  {
   "cell_type": "code",
   "execution_count": 11,
   "metadata": {},
   "outputs": [
    {
     "name": "stdout",
     "output_type": "stream",
     "text": [
      "Name\r\n",
      "Deepak\r\n",
      "Neha\r\n",
      "Vijay\r\n",
      "Guru\r\n"
     ]
    }
   ],
   "source": [
    "# print 1st column of a .CSV file\n",
    "# awk uses whitespace as a default delimiter.\n",
    "# .CSV is comma delimited, so we need to specify that.\n",
    "\n",
    "!awk -F\",\" '{print $1}' file2"
   ]
  },
  {
   "cell_type": "code",
   "execution_count": 13,
   "metadata": {},
   "outputs": [
    {
     "name": "stdout",
     "output_type": "stream",
     "text": [
      "Name Expertise\r\n",
      "Deepak MQ Series\r\n",
      "Neha Power Builder\r\n",
      "Vijay CRM Expert\r\n",
      "Guru Unix\r\n"
     ]
    }
   ],
   "source": [
    "# (alternate syntax using the FS variable - 1st & 3rd columns)\n",
    "!awk  '{print $1,$3}' FS=\",\" file2"
   ]
  },
  {
   "cell_type": "code",
   "execution_count": 14,
   "metadata": {},
   "outputs": [
    {
     "name": "stdout",
     "output_type": "stream",
     "text": [
      "Deepak,MQ Series\r\n",
      "Neha,Power Builder\r\n",
      "Vijay,CRM Expert\r\n",
      "Guru,Unix\r\n"
     ]
    }
   ],
   "source": [
    "# 3rd column has multiple words, so readability is compromised.\n",
    "# use a comma to separate the output with the OFS special variable.\n",
    "# and omit the header with NR\n",
    "!awk -F\",\" 'NR!=1{print $1,$3}' OFS=\",\" file2"
   ]
  },
  {
   "cell_type": "markdown",
   "metadata": {},
   "source": [
    "### Lesson 2: passing arguments or shell variables to awk"
   ]
  },
  {
   "cell_type": "code",
   "execution_count": 18,
   "metadata": {},
   "outputs": [
    {
     "name": "stdout",
     "output_type": "stream",
     "text": [
      "Name,Domain,Expertise\r\n",
      "Deepak,Banking,MQ Series\r\n",
      "Neha,Telecom,Power Builder\r\n",
      "Vijay,Finance,CRM Expert\r\n",
      "Guru,Migration,Unix"
     ]
    }
   ],
   "source": [
    "# quoting file content\n",
    "!cat file2"
   ]
  },
  {
   "cell_type": "code",
   "execution_count": 20,
   "metadata": {},
   "outputs": [
    {
     "name": "stdout",
     "output_type": "stream",
     "text": [
      "'Name,Domain,Expertise'\r\n",
      "'Deepak,Banking,MQ Series'\r\n",
      "'Neha,Telecom,Power Builder'\r\n",
      "'Vijay,Finance,CRM Expert'\r\n",
      "'Guru,Migration,Unix'\r\n"
     ]
    }
   ],
   "source": [
    "!awk -v q=\"'\" '{print q $0 q}' file2"
   ]
  },
  {
   "cell_type": "code",
   "execution_count": 21,
   "metadata": {},
   "outputs": [
    {
     "name": "stdout",
     "output_type": "stream",
     "text": [
      "\"Name,Domain,Expertise\"\r\n",
      "\"Deepak,Banking,MQ Series\"\r\n",
      "\"Neha,Telecom,Power Builder\"\r\n",
      "\"Vijay,Finance,CRM Expert\"\r\n",
      "\"Guru,Migration,Unix\"\r\n"
     ]
    }
   ],
   "source": [
    "# double-quoting file contents\n",
    "!awk '{print q $0 q}' q='\"' file2"
   ]
  },
  {
   "cell_type": "markdown",
   "metadata": {},
   "source": [
    "### Lesson 3: matching file patterns in Linux"
   ]
  },
  {
   "cell_type": "code",
   "execution_count": 22,
   "metadata": {},
   "outputs": [
    {
     "name": "stdout",
     "output_type": "stream",
     "text": [
      "Medicine,200\r\n",
      "Grocery,500\r\n",
      "Rent,900\r\n",
      "Grocery,800\r\n",
      "Medicine,600"
     ]
    }
   ],
   "source": [
    "!cat file3"
   ]
  },
  {
   "cell_type": "code",
   "execution_count": 26,
   "metadata": {},
   "outputs": [
    {
     "name": "stdout",
     "output_type": "stream",
     "text": [
      "Rent,900\r\n"
     ]
    }
   ],
   "source": [
    "# match only the records containing 'Rent'\n",
    "!awk '/Rent/' file3"
   ]
  },
  {
   "cell_type": "code",
   "execution_count": 28,
   "metadata": {},
   "outputs": [
    {
     "name": "stdout",
     "output_type": "stream",
     "text": [
      "Rent,900\r\n"
     ]
    }
   ],
   "source": [
    "# match a pattern only in the 1st column\n",
    "!awk -F, '$1 ~ /Rent/' file3"
   ]
  },
  {
   "cell_type": "code",
   "execution_count": 30,
   "metadata": {},
   "outputs": [
    {
     "name": "stdout",
     "output_type": "stream",
     "text": [
      "Rent,900\r\n"
     ]
    }
   ],
   "source": [
    "# Above also matches \"Rents\". Exact match:\n",
    "!awk -F, '$1==\"Rent\"' file3"
   ]
  },
  {
   "cell_type": "code",
   "execution_count": 32,
   "metadata": {},
   "outputs": [
    {
     "name": "stdout",
     "output_type": "stream",
     "text": [
      "200\r\n",
      "600\r\n"
     ]
    }
   ],
   "source": [
    "# print only the 2nd column for all \"Medicine\" records:\n",
    "!awk -F, '$1 == \"Medicine\"{print $2}' file3"
   ]
  },
  {
   "cell_type": "code",
   "execution_count": 33,
   "metadata": {},
   "outputs": [
    {
     "name": "stdout",
     "output_type": "stream",
     "text": [
      "Medicine,200\r\n",
      "Rent,900\r\n",
      "Medicine,600\r\n"
     ]
    }
   ],
   "source": [
    "# match for patterns \"Rent\" or \"Medicine\"\n",
    "!awk '/Rent|Medicine/' file3"
   ]
  },
  {
   "cell_type": "code",
   "execution_count": 35,
   "metadata": {},
   "outputs": [
    {
     "name": "stdout",
     "output_type": "stream",
     "text": [
      "Medicine,200\r\n",
      "Rent,900\r\n",
      "Medicine,600\r\n"
     ]
    }
   ],
   "source": [
    "# match for this above pattern only in the first column:\n",
    "!awk -F, '$1 ~ /Rent|Medicine/' file3"
   ]
  },
  {
   "cell_type": "code",
   "execution_count": 36,
   "metadata": {},
   "outputs": [
    {
     "name": "stdout",
     "output_type": "stream",
     "text": [
      "Medicine,200\r\n",
      "Rent,900\r\n",
      "Medicine,600\r\n"
     ]
    }
   ],
   "source": [
    "# exactly match only for Rent or Medicine,\n",
    "!awk -F, '$1 ~ /^Rent$|^Medicine$/' file3"
   ]
  },
  {
   "cell_type": "code",
   "execution_count": 37,
   "metadata": {},
   "outputs": [
    {
     "name": "stdout",
     "output_type": "stream",
     "text": [
      "Grocery,500\r\n",
      "Rent,900\r\n",
      "Grocery,800\r\n"
     ]
    }
   ],
   "source": [
    "# lines which does not contain the pattern Medicine:\n",
    "!awk '!/Medicine/' file3"
   ]
  },
  {
   "cell_type": "code",
   "execution_count": 39,
   "metadata": {},
   "outputs": [
    {
     "name": "stdout",
     "output_type": "stream",
     "text": [
      "Rent,900\r\n",
      "Grocery,800\r\n",
      "Medicine,600\r\n"
     ]
    }
   ],
   "source": [
    "# all records whose amount is greater than 500:\n",
    "!awk -F, '$2>500' file3"
   ]
  },
  {
   "cell_type": "code",
   "execution_count": 41,
   "metadata": {},
   "outputs": [
    {
     "name": "stdout",
     "output_type": "stream",
     "text": [
      "Medicine,200\r\n"
     ]
    }
   ],
   "source": [
    "# print medicine record only if it is the 1st record (&& = logical AND):\n",
    "!awk 'NR==1 && /Medicine/' file3"
   ]
  },
  {
   "cell_type": "code",
   "execution_count": 42,
   "metadata": {},
   "outputs": [
    {
     "name": "stdout",
     "output_type": "stream",
     "text": [
      "Medicine,600\r\n"
     ]
    }
   ],
   "source": [
    "# all Medicine records whose amount is greater than 500:\n",
    "!awk -F, '/Medicine/ && $2>500' file3"
   ]
  },
  {
   "cell_type": "code",
   "execution_count": 43,
   "metadata": {},
   "outputs": [
    {
     "name": "stdout",
     "output_type": "stream",
     "text": [
      "Medicine,200\r\n",
      "Rent,900\r\n",
      "Grocery,800\r\n",
      "Medicine,600\r\n"
     ]
    }
   ],
   "source": [
    "# all the Medicine records OR whose amount is greater than 600 (|| = logical OR):\n",
    "!awk -F, '/Medicine/ || $2>600' file3"
   ]
  },
  {
   "cell_type": "code",
   "execution_count": null,
   "metadata": {},
   "outputs": [],
   "source": []
  }
 ],
 "metadata": {
  "kernelspec": {
   "display_name": "Python 3",
   "language": "python",
   "name": "python3"
  },
  "language_info": {
   "codemirror_mode": {
    "name": "ipython",
    "version": 3
   },
   "file_extension": ".py",
   "mimetype": "text/x-python",
   "name": "python",
   "nbconvert_exporter": "python",
   "pygments_lexer": "ipython3",
   "version": "3.8.6"
  }
 },
 "nbformat": 4,
 "nbformat_minor": 4
}
