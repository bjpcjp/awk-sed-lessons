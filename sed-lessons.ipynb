{
 "cells": [
  {
   "cell_type": "markdown",
   "metadata": {},
   "source": [
    "# [The Unix School: Sed](https://www.theunixschool.com/p/awk-sed.html)"
   ]
  },
  {
   "cell_type": "code",
   "execution_count": 1,
   "metadata": {},
   "outputs": [
    {
     "name": "stdout",
     "output_type": "stream",
     "text": [
      "Usage: sed [OPTION]... {script-only-if-no-other-script} [input-file]...\n",
      "\n",
      "  -n, --quiet, --silent\n",
      "                 suppress automatic printing of pattern space\n",
      "      --debug\n",
      "                 annotate program execution\n",
      "  -e script, --expression=script\n",
      "                 add the script to the commands to be executed\n",
      "  -f script-file, --file=script-file\n",
      "                 add the contents of script-file to the commands to be executed\n",
      "  --follow-symlinks\n",
      "                 follow symlinks when processing in place\n",
      "  -i[SUFFIX], --in-place[=SUFFIX]\n",
      "                 edit files in place (makes backup if SUFFIX supplied)\n",
      "  -l N, --line-length=N\n",
      "                 specify the desired line-wrap length for the `l' command\n",
      "  --posix\n",
      "                 disable all GNU extensions.\n",
      "  -E, -r, --regexp-extended\n",
      "                 use extended regular expressions in the script\n",
      "                 (for portability use POSIX -E).\n",
      "  -s, --separate\n",
      "                 consider files as separate rather than as a single,\n",
      "                 continuous long stream.\n",
      "      --sandbox\n",
      "                 operate in sandbox mode (disable e/r/w commands).\n",
      "  -u, --unbuffered\n",
      "                 load minimal amounts of data from the input files and flush\n",
      "                 the output buffers more often\n",
      "  -z, --null-data\n",
      "                 separate lines by NUL characters\n",
      "      --help     display this help and exit\n",
      "      --version  output version information and exit\n",
      "\n",
      "If no -e, --expression, -f, or --file option is given, then the first\n",
      "non-option argument is taken as the sed script to interpret.  All\n",
      "remaining arguments are names of input files; if no input files are\n",
      "specified, then the standard input is read.\n",
      "\n",
      "GNU sed home page: <https://www.gnu.org/software/sed/>.\n",
      "General help using GNU software: <https://www.gnu.org/gethelp/>.\n"
     ]
    }
   ],
   "source": [
    "!sed"
   ]
  },
  {
   "cell_type": "markdown",
   "metadata": {},
   "source": [
    "### Lesson 1: include or append line to file"
   ]
  },
  {
   "cell_type": "code",
   "execution_count": 2,
   "metadata": {},
   "outputs": [
    {
     "name": "stdout",
     "output_type": "stream",
     "text": [
      "Hilesh, 1001\n",
      "Bharti, 1002\n",
      "Aparna, 1003\n",
      "Harshal, 1004\n",
      "Keyur, 1005"
     ]
    }
   ],
   "source": [
    "# employee file - name, id\n",
    "!cat empFile"
   ]
  },
  {
   "cell_type": "code",
   "execution_count": 3,
   "metadata": {},
   "outputs": [
    {
     "name": "stdout",
     "output_type": "stream",
     "text": [
      "Employee, EmpId\n",
      "Hilesh, 1001\n",
      "Bharti, 1002\n",
      "Aparna, 1003\n",
      "Harshal, 1004\n",
      "Keyur, 1005Hilesh, 1001\n",
      "Bharti, 1002\n",
      "Aparna, 1003\n",
      "Harshal, 1004\n",
      "Keyur, 1005"
     ]
    }
   ],
   "source": [
    "# add a header line\n",
    "# 1: op only to be executed on 1st line\n",
    "# i: include following content before reading line\n",
    "!sed '1i Employee, EmpId' empFile\n",
    "!cat empFile"
   ]
  },
  {
   "cell_type": "markdown",
   "metadata": {},
   "source": [
    "### Lesson 2: replace or substitute file contents"
   ]
  },
  {
   "cell_type": "code",
   "execution_count": 4,
   "metadata": {},
   "outputs": [],
   "source": [
    "# TODO"
   ]
  },
  {
   "cell_type": "markdown",
   "metadata": {},
   "source": [
    "### Lesson 3: file read/write"
   ]
  },
  {
   "cell_type": "code",
   "execution_count": 5,
   "metadata": {},
   "outputs": [],
   "source": [
    "# TODO"
   ]
  },
  {
   "cell_type": "markdown",
   "metadata": {},
   "source": [
    "### Lesson 4: selective printing"
   ]
  },
  {
   "cell_type": "code",
   "execution_count": 6,
   "metadata": {},
   "outputs": [],
   "source": [
    "# TODO"
   ]
  },
  {
   "cell_type": "markdown",
   "metadata": {},
   "source": [
    "### Lesson 5: replace or substitute file contents, part 2"
   ]
  },
  {
   "cell_type": "code",
   "execution_count": 7,
   "metadata": {},
   "outputs": [],
   "source": [
    "# TODO"
   ]
  },
  {
   "cell_type": "markdown",
   "metadata": {},
   "source": [
    "### Lesson 6: deleting lines or patterns in a file"
   ]
  },
  {
   "cell_type": "code",
   "execution_count": 8,
   "metadata": {},
   "outputs": [],
   "source": [
    "# TODO"
   ]
  },
  {
   "cell_type": "markdown",
   "metadata": {},
   "source": [
    "### Lesson 7: printing lines in a file"
   ]
  },
  {
   "cell_type": "code",
   "execution_count": 9,
   "metadata": {},
   "outputs": [],
   "source": [
    "# TODO"
   ]
  },
  {
   "cell_type": "markdown",
   "metadata": {},
   "source": [
    "### Lesson 8: replace, delete or print CSV file lines"
   ]
  },
  {
   "cell_type": "code",
   "execution_count": 10,
   "metadata": {},
   "outputs": [],
   "source": [
    "# TODO"
   ]
  },
  {
   "cell_type": "markdown",
   "metadata": {},
   "source": [
    "### Lesson 9: remove file characters"
   ]
  },
  {
   "cell_type": "code",
   "execution_count": 11,
   "metadata": {},
   "outputs": [],
   "source": [
    "# TODO"
   ]
  },
  {
   "cell_type": "code",
   "execution_count": null,
   "metadata": {},
   "outputs": [],
   "source": []
  }
 ],
 "metadata": {
  "kernelspec": {
   "display_name": "Python 3 (ipykernel)",
   "language": "python",
   "name": "python3"
  },
  "language_info": {
   "codemirror_mode": {
    "name": "ipython",
    "version": 3
   },
   "file_extension": ".py",
   "mimetype": "text/x-python",
   "name": "python",
   "nbconvert_exporter": "python",
   "pygments_lexer": "ipython3",
   "version": "3.10.7"
  }
 },
 "nbformat": 4,
 "nbformat_minor": 4
}
